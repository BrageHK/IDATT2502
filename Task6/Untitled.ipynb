{
 "cells": [
  {
   "cell_type": "markdown",
   "id": "3ea3bac6",
   "metadata": {},
   "source": [
    "# Weka machine learning toolkit\n",
    "\n",
    "* [Download Weka](https://www.cs.waikato.ac.nz/~ml/weka/)\n",
    "* [Data mining with Weka video series](https://www.youtube.com/user/WekaMOOC)\n",
    "\n",
    "# Exercise 6\n",
    "\n",
    "For this exercise you can use either Python with sklearn or Weka.\n",
    "\n",
    "* Using the UCI mushroom dataset from the last exercise, perform a feature selection using a classifier evaluator. Which features are most discriminitave?\n",
    "* Use principal components analysis to construct a reduced space. Which combination of features explain the most variance in the dataset?\n",
    "* Do you see any overlap between the PCA features and those obtained from feature selection?"
   ]
  },
  {
   "cell_type": "code",
   "execution_count": 2,
   "id": "55cc4851",
   "metadata": {},
   "outputs": [
    {
     "name": "stdout",
     "output_type": "stream",
     "text": [
      "(8124, 117)\n",
      "(8124, 2)\n",
      "['bruises?_t', 'odor_f', 'odor_n', 'gill-size_n', 'gill-color_b', 'stalk-surface-above-ring_k', 'stalk-surface-below-ring_k', 'ring-type_l', 'ring-type_p', 'spore-print-color_h']\n",
      "[21 24 27 36 37 57 61 92 94 96]\n"
     ]
    }
   ],
   "source": [
    "import pandas as pd\n",
    "import numpy as np\n",
    "from sklearn.feature_selection import SelectKBest\n",
    "from sklearn.feature_selection import chi2\n",
    "from sklearn.preprocessing import OneHotEncoder\n",
    "\n",
    "\n",
    "df = pd.read_csv('../Task5/agaricus-lepiota.data', thousands=',').dropna()\n",
    "\n",
    "X = df.drop(columns='edibility') # Fjerner edibility fordi den har åpenbart mest å si om en sopp er spiselig eller ikke\n",
    "y = pd.get_dummies(df['edibility'])\n",
    "X_encoded = pd.get_dummies(X, columns=X.columns)\n",
    "print(X_encoded.shape)\n",
    "print(y.shape)\n",
    "\n",
    "\n",
    "num_features_to_select = 10 # top k features\n",
    "skb = SelectKBest(chi2, k=num_features_to_select)\n",
    "X_new = skb.fit_transform(X_encoded, y)\n",
    "\n",
    "selected_features = [X_encoded.columns[i] for i in skb.get_support(indices=True)]\n",
    "print(selected_features)\n",
    "print(skb.get_support(indices=True))"
   ]
  },
  {
   "cell_type": "code",
<<<<<<< HEAD
   "execution_count": 3,
=======
   "execution_count": 6,
>>>>>>> 1f5efecb1d6852e1fd074ae6f4c9bd8994e097e6
   "id": "a7d32f2d",
   "metadata": {},
   "outputs": [
    {
     "name": "stdout",
     "output_type": "stream",
     "text": [
<<<<<<< HEAD
      "PCA space: (8124, 10)\n",
      "Indexes:  [20, 96, 111, 50, 27, 2, 8, 14, 6, 97]\n",
      "Best features:  ['bruises?_f', 'spore-print-color_h', 'habitat_g', 'stalk-shape_t', 'odor_n', 'cap-shape_f', 'cap-surface_s', 'cap-color_n', 'cap-surface_f', 'spore-print-color_k']\n"
=======
      "PCA space: (8124, 2)\n",
      "PCA:  [[-0.99624519 -0.94689159]\n",
      " [-1.44173282 -0.16415414]\n",
      " [-1.52408477 -0.40874594]\n",
      " ...\n",
      " [-0.28781672 -0.32621374]\n",
      " [ 1.93043302 -1.57316306]\n",
      " [-0.24929719 -0.31229216]]\n"
>>>>>>> 1f5efecb1d6852e1fd074ae6f4c9bd8994e097e6
     ]
    }
   ],
   "source": [
    "from sklearn import decomposition\n",
    "\n",
    "\n",
    "pca = decomposition.PCA(n_components=2)\n",
    "pca.fit(X_encoded)\n",
    "Xpca = pca.transform(X_encoded)\n",
    "\n",
    "print(\"PCA space:\",Xpca.shape)\n",
    "print(\"PCA: \", Xpca)\n",
    "best_features_indexes = [pca.components_[i].argmax() for i in range(Xpca.shape[1])]\n",
<<<<<<< HEAD
    "print(\"Indexes: \", best_features_indexes)\n",
    "features = [X_encoded.columns[best_features_indexes[i]] for i in range(Xpca.shape[1])]\n",
    "print(\"Best features: \", features)"
=======
    "features = [X_encoded.columns[best_features_indexes[i]] for i in range(Xpca.shape[1])]"
>>>>>>> 1f5efecb1d6852e1fd074ae6f4c9bd8994e097e6
   ]
  },
  {
   "cell_type": "code",
   "execution_count": 4,
   "id": "13307039",
   "metadata": {},
   "outputs": [
    {
     "name": "stdout",
     "output_type": "stream",
     "text": [
      "Overlap: \n",
      "odor_n\n",
      "spore-print-color_h\n"
     ]
    }
   ],
   "source": [
    "print('Overlap: ')\n",
    "for i in range(len(selected_features)):\n",
    "    for j in range(len(features)):\n",
    "        if(selected_features[i] == features[j]):\n",
    "            print(selected_features[i])"
   ]
  },
  {
   "cell_type": "code",
   "execution_count": null,
   "id": "4650c704",
   "metadata": {},
   "outputs": [],
   "source": []
  }
 ],
 "metadata": {
  "kernelspec": {
   "display_name": "Python 3 (ipykernel)",
   "language": "python",
   "name": "python3"
  },
  "language_info": {
   "codemirror_mode": {
    "name": "ipython",
    "version": 3
   },
   "file_extension": ".py",
   "mimetype": "text/x-python",
   "name": "python",
   "nbconvert_exporter": "python",
   "pygments_lexer": "ipython3",
   "version": "3.9.7"
  }
 },
 "nbformat": 4,
 "nbformat_minor": 5
}
